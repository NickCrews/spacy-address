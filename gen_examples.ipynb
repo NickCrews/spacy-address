{
 "cells": [
  {
   "cell_type": "markdown",
   "metadata": {},
   "source": [
    "Use this script to find examples in the test set that the model performed poorly on, and format them in the .nerf format. Then, you can copy-paste\n",
    "this into chatGPT and play around with it to get it to generate more training\n",
    "data that will help it learn this pattern."
   ]
  },
  {
   "cell_type": "code",
   "execution_count": 2,
   "metadata": {},
   "outputs": [
    {
     "name": "stdout",
     "output_type": "stream",
     "text": [
      "0 519 PR 462 Leonard, TX 75452\n",
      "1 431 Marietta St NW Room 303\n",
      "2 MARTIN DAVIS SOS SECURITY IL CHICAGO BRANCH 30 S WACKER DR STE 2200 CHICAGO IL 60606\n",
      "3 Zendesk Christian Golding 1019 Market St San Francisco CA 94103\n",
      "4 LEXI HAGENSON 860 w Blackhawk 305 CHICAGO ll. 60642—2534\n",
      "5 Erin Johnson c/o DTZ Suite 1800 77 W Wacker Dr Chicago, IL 606001\n",
      "6 59-17 Junction Boulevard, 17th Floor Conference Room, Flushing, New York\n",
      "7 PO Box 9580 Rancho Santa Fe CA 92067\n",
      "8 2207 d gault ave n ft payne al 35967\n",
      "9 po box 2303 department 130 indianapolis in 46206\n"
     ]
    }
   ],
   "source": [
    "import eval\n",
    "\n",
    "exs = eval.load_examples()\n",
    "mispreds = [e for e in exs if eval.is_misprediction(e)]\n",
    "for i, e in enumerate(mispreds):\n",
    "    print(i, e.text)"
   ]
  },
  {
   "cell_type": "code",
   "execution_count": 3,
   "metadata": {},
   "outputs": [
    {
     "name": "stdout",
     "output_type": "stream",
     "text": [
      "{\n",
      "  \"text\": \"Erin Johnson c/o DTZ Suite 1800 77 W Wacker Dr Chicago, IL 606001\",\n",
      "  \"ents\": [\n",
      "    {\n",
      "      \"text\": \"Erin Johnson c/o DTZ\",\n",
      "      \"label\": \"Recipient\"\n",
      "    },\n",
      "    {\n",
      "      \"text\": \"Suite\",\n",
      "      \"label\": \"OccupancyType\"\n",
      "    },\n",
      "    {\n",
      "      \"text\": \"1800\",\n",
      "      \"label\": \"OccupancyIdentifier\"\n",
      "    },\n",
      "    {\n",
      "      \"text\": \"77\",\n",
      "      \"label\": \"AddressNumber\"\n",
      "    },\n",
      "    {\n",
      "      \"text\": \"W\",\n",
      "      \"label\": \"StreetNamePreDirectional\",\n",
      "      \"start\": 35\n",
      "    },\n",
      "    {\n",
      "      \"text\": \"Wacker\",\n",
      "      \"label\": \"StreetName\"\n",
      "    },\n",
      "    {\n",
      "      \"text\": \"Dr\",\n",
      "      \"label\": \"StreetNamePostType\"\n",
      "    },\n",
      "    {\n",
      "      \"text\": \"Chicago\",\n",
      "      \"label\": \"PlaceName\"\n",
      "    },\n",
      "    {\n",
      "      \"text\": \"IL\",\n",
      "      \"label\": \"StateName\"\n",
      "    },\n",
      "    {\n",
      "      \"text\": \"606001\",\n",
      "      \"label\": \"ZipCode\"\n",
      "    }\n",
      "  ]\n",
      "}\n"
     ]
    }
   ],
   "source": [
    "import nerf\n",
    "import json\n",
    "\n",
    "d = nerf.DocSpec.from_doc(mispreds[5].reference).to_dict()\n",
    "print(json.dumps(d, indent=2))"
   ]
  },
  {
   "cell_type": "code",
   "execution_count": null,
   "metadata": {},
   "outputs": [],
   "source": []
  }
 ],
 "metadata": {
  "kernelspec": {
   "display_name": ".venv",
   "language": "python",
   "name": "python3"
  },
  "language_info": {
   "codemirror_mode": {
    "name": "ipython",
    "version": 3
   },
   "file_extension": ".py",
   "mimetype": "text/x-python",
   "name": "python",
   "nbconvert_exporter": "python",
   "pygments_lexer": "ipython3",
   "version": "3.11.6"
  }
 },
 "nbformat": 4,
 "nbformat_minor": 2
}
